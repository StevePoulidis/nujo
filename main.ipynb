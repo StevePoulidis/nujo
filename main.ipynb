{
 "cells": [
  {
   "cell_type": "code",
   "execution_count": 1,
   "metadata": {},
   "outputs": [],
   "source": [
    "import numpy as np\n",
    "import nujo as nj"
   ]
  },
  {
   "cell_type": "code",
   "execution_count": 2,
   "metadata": {},
   "outputs": [],
   "source": [
    "M = 30\n",
    "x = np.random.rand(M, 3)\n",
    "y = x@[[4, 2], [2, 1], [-1, 1]] - [[2, 2]]\n",
    "\n",
    "x, y = nj.Constant(x), nj.Constant(y)"
   ]
  },
  {
   "cell_type": "code",
   "execution_count": 3,
   "metadata": {
    "scrolled": true
   },
   "outputs": [
    {
     "name": "stdout",
     "output_type": "stream",
     "text": [
      "EPOCH: 100 | LOSS:  3.9381654104571515e-08\n",
      "EPOCH: 200 | LOSS:  3.705867993040023e-14\n",
      "EPOCH: 300 | LOSS:  3.536931914643721e-20\n",
      "EPOCH: 400 | LOSS:  3.430649140787174e-26\n",
      "EPOCH: 500 | LOSS:  6.125826773334086e-32\n",
      "EPOCH: 600 | LOSS:  3.854770182912657e-32\n",
      "EPOCH: 700 | LOSS:  3.726546047059675e-32\n",
      "EPOCH: 800 | LOSS:  3.77670582250016e-32\n",
      "EPOCH: 900 | LOSS:  3.849463175954789e-32\n",
      "EPOCH: 1000 | LOSS:  3.849463175954789e-32\n"
     ]
    }
   ],
   "source": [
    "m, b = nj.Variable(np.random.randn(3, 2), name='m'), nj.Variable(np.random.randn(1, 2), name='b')\n",
    "\n",
    "n_epochs = 1000\n",
    "lr = 1\n",
    "\n",
    "for epoch in range(1, n_epochs+1):\n",
    "    \n",
    "    output = x@m + b\n",
    "    loss = (1/M)*((output-y)**2)\n",
    "    \n",
    "    loss.backward()\n",
    "    if epoch % 100 == 0:\n",
    "        print('EPOCH:', epoch, '| LOSS: ', np.mean(loss.value))\n",
    "    \n",
    "    # Update\n",
    "    with nj.no_diff():\n",
    "        m -= lr*m.grad\n",
    "        b -= lr*b.grad\n",
    "        \n",
    "    m.zero_grad()\n",
    "    b.zero_grad()"
   ]
  },
  {
   "cell_type": "code",
   "execution_count": null,
   "metadata": {},
   "outputs": [],
   "source": []
  }
 ],
 "metadata": {
  "kernelspec": {
   "display_name": "Python 3",
   "language": "python",
   "name": "python3"
  },
  "language_info": {
   "codemirror_mode": {
    "name": "ipython",
    "version": 3
   },
   "file_extension": ".py",
   "mimetype": "text/x-python",
   "name": "python",
   "nbconvert_exporter": "python",
   "pygments_lexer": "ipython3",
   "version": "3.7.5"
  }
 },
 "nbformat": 4,
 "nbformat_minor": 2
}
