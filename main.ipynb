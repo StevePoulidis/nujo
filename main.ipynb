{
 "cells": [
  {
   "cell_type": "code",
   "execution_count": 1,
   "metadata": {},
   "outputs": [],
   "source": [
    "import numpy as np\n",
    "\n",
    "import nujo as nj\n",
    "import nujo.optim as optim\n",
    "import nujo.visualization as viz"
   ]
  },
  {
   "cell_type": "code",
   "execution_count": 2,
   "metadata": {},
   "outputs": [],
   "source": [
    "M = 30\n",
    "x = np.random.rand(M, 3)\n",
    "y = x@[[4, 2], [2, 1], [-1, 1]] - [[2, 2]]\n",
    "\n",
    "x, y = nj.Constant(x), nj.Constant(y)"
   ]
  },
  {
   "cell_type": "code",
   "execution_count": 3,
   "metadata": {},
   "outputs": [],
   "source": [
    "parameters = [[nj.Variable(np.random.randn(3, 2), name='m'),\n",
    "              nj.Variable(np.random.randn(1, 2), name='b')]]\n",
    "\n",
    "n_epochs = 1000\n",
    "optimizer = optim.GradientDescent(parameters, lr=1)"
   ]
  },
  {
   "cell_type": "code",
   "execution_count": 4,
   "metadata": {
    "scrolled": true
   },
   "outputs": [
    {
     "name": "stdout",
     "output_type": "stream",
     "text": [
      "EPOCH: 100 | LOSS:  2.4935198717575672e-08\n",
      "EPOCH: 200 | LOSS:  2.5536532225992854e-14\n",
      "EPOCH: 300 | LOSS:  2.6161296811340588e-20\n",
      "EPOCH: 400 | LOSS:  2.680860668607014e-26\n",
      "EPOCH: 500 | LOSS:  5.318006157771661e-32\n",
      "EPOCH: 600 | LOSS:  3.7276160081398906e-32\n",
      "EPOCH: 700 | LOSS:  3.682292456781977e-32\n",
      "EPOCH: 800 | LOSS:  3.740327145772846e-32\n",
      "EPOCH: 900 | LOSS:  3.7365180843272797e-32\n",
      "EPOCH: 1000 | LOSS:  3.833756147297232e-32\n"
     ]
    }
   ],
   "source": [
    "for epoch in range(1, n_epochs+1):\n",
    "    \n",
    "    output = x@parameters[0][0] + parameters[0][1]\n",
    "    loss = (1/M)*((output-y)**2)\n",
    "    \n",
    "    loss.backward()\n",
    "    if epoch % 100 == 0:\n",
    "        print('EPOCH:', epoch, '| LOSS: ', np.mean(loss.value))\n",
    "    \n",
    "    # Update\n",
    "    optimizer.step()\n",
    "    \n",
    "    optimizer.zero_grad()"
   ]
  },
  {
   "cell_type": "markdown",
   "metadata": {},
   "source": [
    "## Visualize"
   ]
  },
  {
   "cell_type": "code",
   "execution_count": 5,
   "metadata": {},
   "outputs": [],
   "source": [
    "plotter = viz.ComputationGraphPlotter()\n",
    "plotter.create(loss)\n",
    "plotter.view()"
   ]
  },
  {
   "cell_type": "code",
   "execution_count": null,
   "metadata": {},
   "outputs": [],
   "source": []
  }
 ],
 "metadata": {
  "kernelspec": {
   "display_name": "Python 3",
   "language": "python",
   "name": "python3"
  },
  "language_info": {
   "codemirror_mode": {
    "name": "ipython",
    "version": 3
   },
   "file_extension": ".py",
   "mimetype": "text/x-python",
   "name": "python",
   "nbconvert_exporter": "python",
   "pygments_lexer": "ipython3",
   "version": "3.7.5"
  }
 },
 "nbformat": 4,
 "nbformat_minor": 2
}
