{
 "cells": [
  {
   "cell_type": "code",
   "execution_count": 1,
   "metadata": {},
   "outputs": [],
   "source": [
    "import numpy as np\n",
    "\n",
    "import nujo as nj\n",
    "import nujo.optim as optim\n",
    "import nujo.visualization as viz"
   ]
  },
  {
   "cell_type": "code",
   "execution_count": 2,
   "metadata": {},
   "outputs": [],
   "source": [
    "M = 30\n",
    "x = np.random.rand(M, 3)\n",
    "y = x @ [[4, 2],\n",
    "         [2, 1],\n",
    "         [-1, 1]] - [[2, 2]]\n",
    "\n",
    "x, y = nj.Constant(x), nj.Constant(y)"
   ]
  },
  {
   "cell_type": "code",
   "execution_count": 6,
   "metadata": {},
   "outputs": [],
   "source": [
    "parameters = [[nj.Variable(np.random.randn(3, 2), name='m'),\n",
    "              nj.Variable(np.random.randn(1, 2), name='b')]]\n",
    "\n",
    "n_epochs = 1000\n",
    "optimizer = optim.RMSprop(parameters, lr=0.1, beta=0.999)"
   ]
  },
  {
   "cell_type": "code",
   "execution_count": 7,
   "metadata": {
    "scrolled": true
   },
   "outputs": [
    {
     "name": "stdout",
     "output_type": "stream",
     "text": [
      "EPOCH: 100 | LOSS:  3.836077962841298e-34\n",
      "EPOCH: 200 | LOSS:  3.4637315069264326e-34\n",
      "EPOCH: 300 | LOSS:  3.189821470391359e-34\n",
      "EPOCH: 400 | LOSS:  3.1844716649902837e-34\n",
      "EPOCH: 500 | LOSS:  2.0885640285799355e-34\n",
      "EPOCH: 600 | LOSS:  2.0714446512964938e-34\n",
      "EPOCH: 700 | LOSS:  2.0714446512964938e-34\n",
      "EPOCH: 800 | LOSS:  2.0543252740130515e-34\n",
      "EPOCH: 900 | LOSS:  1.1641176552740626e-34\n",
      "EPOCH: 1000 | LOSS:  1.0956401461402942e-34\n"
     ]
    }
   ],
   "source": [
    "for epoch in range(1, n_epochs+1):\n",
    "    \n",
    "    output = x@parameters[0][0] + parameters[0][1]\n",
    "    loss = (1/M)*((output-y)**2)\n",
    "    \n",
    "    loss.backward()\n",
    "    if epoch % 100 == 0:\n",
    "        print('EPOCH:', epoch, '| LOSS: ', np.mean(loss.value))\n",
    "    \n",
    "    # Update\n",
    "    optimizer.step()\n",
    "    \n",
    "    optimizer.zero_grad()"
   ]
  },
  {
   "cell_type": "markdown",
   "metadata": {},
   "source": [
    "## Visualize"
   ]
  },
  {
   "cell_type": "code",
   "execution_count": 5,
   "metadata": {},
   "outputs": [],
   "source": [
    "plotter = viz.ComputationGraphPlotter()\n",
    "plotter.create(loss)\n",
    "plotter.view()"
   ]
  },
  {
   "cell_type": "code",
   "execution_count": null,
   "metadata": {},
   "outputs": [],
   "source": []
  }
 ],
 "metadata": {
  "kernelspec": {
   "display_name": "Python 3",
   "language": "python",
   "name": "python3"
  },
  "language_info": {
   "codemirror_mode": {
    "name": "ipython",
    "version": 3
   },
   "file_extension": ".py",
   "mimetype": "text/x-python",
   "name": "python",
   "nbconvert_exporter": "python",
   "pygments_lexer": "ipython3",
   "version": "3.7.6"
  }
 },
 "nbformat": 4,
 "nbformat_minor": 2
}
