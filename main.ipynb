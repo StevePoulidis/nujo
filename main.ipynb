{
 "cells": [
  {
   "cell_type": "code",
   "execution_count": 1,
   "metadata": {},
   "outputs": [],
   "source": [
    "import numpy as np\n",
    "\n",
    "import nujo as nj\n",
    "import nujo.optim as optim\n",
    "import nujo.visualization as viz"
   ]
  },
  {
   "cell_type": "code",
   "execution_count": 2,
   "metadata": {},
   "outputs": [],
   "source": [
    "M = 30\n",
    "x = np.random.rand(M, 3)\n",
    "y = x @ [[4, 2],\n",
    "         [2, 1],\n",
    "         [-1, 1]] - [[2, 2]]\n",
    "\n",
    "x, y = nj.Constant(x), nj.Constant(y)"
   ]
  },
  {
   "cell_type": "code",
   "execution_count": 5,
   "metadata": {},
   "outputs": [],
   "source": [
    "parameters = [[nj.Variable(np.random.randn(3, 2), name='m'),\n",
    "              nj.Variable(np.random.randn(1, 2), name='b')]]\n",
    "\n",
    "n_epochs = 1000\n",
    "optimizer = optim.Momentum(parameters, lr=1, beta=0.9)"
   ]
  },
  {
   "cell_type": "code",
   "execution_count": 6,
   "metadata": {
    "scrolled": true
   },
   "outputs": [
    {
     "name": "stdout",
     "output_type": "stream",
     "text": [
      "EPOCH: 100 | LOSS:  1.434378972042608e-07\n",
      "EPOCH: 200 | LOSS:  1.480395135581715e-13\n",
      "EPOCH: 300 | LOSS:  1.5310804444275631e-19\n",
      "EPOCH: 400 | LOSS:  1.5865442101800406e-25\n",
      "EPOCH: 500 | LOSS:  2.117945159842643e-31\n",
      "EPOCH: 600 | LOSS:  7.503080675787001e-32\n",
      "EPOCH: 700 | LOSS:  7.503080675787001e-32\n",
      "EPOCH: 800 | LOSS:  7.503080675787001e-32\n",
      "EPOCH: 900 | LOSS:  7.503080675787001e-32\n",
      "EPOCH: 1000 | LOSS:  7.503080675787001e-32\n"
     ]
    }
   ],
   "source": [
    "for epoch in range(1, n_epochs+1):\n",
    "    \n",
    "    output = x@parameters[0][0] + parameters[0][1]\n",
    "    loss = (1/M)*((output-y)**2)\n",
    "    \n",
    "    loss.backward()\n",
    "    if epoch % 100 == 0:\n",
    "        print('EPOCH:', epoch, '| LOSS: ', np.mean(loss.value))\n",
    "    \n",
    "    # Update\n",
    "    optimizer.step()\n",
    "    \n",
    "    optimizer.zero_grad()"
   ]
  },
  {
   "cell_type": "markdown",
   "metadata": {},
   "source": [
    "## Visualize"
   ]
  },
  {
   "cell_type": "code",
   "execution_count": 5,
   "metadata": {},
   "outputs": [],
   "source": [
    "plotter = viz.ComputationGraphPlotter()\n",
    "plotter.create(loss)\n",
    "plotter.view()"
   ]
  },
  {
   "cell_type": "code",
   "execution_count": null,
   "metadata": {},
   "outputs": [],
   "source": []
  }
 ],
 "metadata": {
  "kernelspec": {
   "display_name": "Python 3",
   "language": "python",
   "name": "python3"
  },
  "language_info": {
   "codemirror_mode": {
    "name": "ipython",
    "version": 3
   },
   "file_extension": ".py",
   "mimetype": "text/x-python",
   "name": "python",
   "nbconvert_exporter": "python",
   "pygments_lexer": "ipython3",
   "version": "3.7.6"
  }
 },
 "nbformat": 4,
 "nbformat_minor": 2
}
