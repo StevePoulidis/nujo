{
 "cells": [
  {
   "cell_type": "code",
   "execution_count": 1,
   "metadata": {},
   "outputs": [],
   "source": [
    "import numpy as np\n",
    "import nujo as nj\n",
    "import nujo.optim as optim"
   ]
  },
  {
   "cell_type": "code",
   "execution_count": 2,
   "metadata": {},
   "outputs": [],
   "source": [
    "M = 30\n",
    "x = np.random.rand(M, 3)\n",
    "y = x@[[4, 2], [2, 1], [-1, 1]] - [[2, 2]]\n",
    "\n",
    "x, y = nj.Constant(x), nj.Constant(y)"
   ]
  },
  {
   "cell_type": "code",
   "execution_count": 3,
   "metadata": {},
   "outputs": [],
   "source": [
    "parameters = [[nj.Variable(np.random.randn(3, 2), name='m'),\n",
    "              nj.Variable(np.random.randn(1, 2), name='b')]]\n",
    "\n",
    "n_epochs = 1000\n",
    "optimizer = optim.GradientDescent(parameters, lr=1)"
   ]
  },
  {
   "cell_type": "code",
   "execution_count": 4,
   "metadata": {
    "scrolled": true
   },
   "outputs": [
    {
     "name": "stdout",
     "output_type": "stream",
     "text": [
      "EPOCH: 100 | LOSS:  1.6163515954313934e-07\n",
      "EPOCH: 200 | LOSS:  1.6290008337146403e-13\n",
      "EPOCH: 300 | LOSS:  1.6427033756576535e-19\n",
      "EPOCH: 400 | LOSS:  1.657311585897058e-25\n",
      "EPOCH: 500 | LOSS:  1.9346223082029033e-31\n",
      "EPOCH: 600 | LOSS:  1.1943932739998298e-31\n",
      "EPOCH: 700 | LOSS:  1.1943932739998298e-31\n",
      "EPOCH: 800 | LOSS:  1.1943932739998298e-31\n",
      "EPOCH: 900 | LOSS:  1.1943932739998298e-31\n",
      "EPOCH: 1000 | LOSS:  1.1943932739998298e-31\n"
     ]
    }
   ],
   "source": [
    "for epoch in range(1, n_epochs+1):\n",
    "    \n",
    "    output = x@parameters[0][0] + parameters[0][1]\n",
    "    loss = (1/M)*((output-y)**2)\n",
    "    \n",
    "    loss.backward()\n",
    "    if epoch % 100 == 0:\n",
    "        print('EPOCH:', epoch, '| LOSS: ', np.mean(loss.value))\n",
    "    \n",
    "    # Update\n",
    "    optimizer.step()\n",
    "    \n",
    "    optimizer.zero_grad()"
   ]
  },
  {
   "cell_type": "code",
   "execution_count": 5,
   "metadata": {},
   "outputs": [],
   "source": [
    "import nujo.vizualization as viz"
   ]
  },
  {
   "cell_type": "code",
   "execution_count": 6,
   "metadata": {},
   "outputs": [],
   "source": [
    "plotter = viz.ComputationGraphPlotter()\n",
    "plotter.create(loss)\n",
    "plotter.view()"
   ]
  },
  {
   "cell_type": "code",
   "execution_count": null,
   "metadata": {},
   "outputs": [],
   "source": []
  }
 ],
 "metadata": {
  "kernelspec": {
   "display_name": "Python 3",
   "language": "python",
   "name": "python3"
  },
  "language_info": {
   "codemirror_mode": {
    "name": "ipython",
    "version": 3
   },
   "file_extension": ".py",
   "mimetype": "text/x-python",
   "name": "python",
   "nbconvert_exporter": "python",
   "pygments_lexer": "ipython3",
   "version": "3.7.5"
  }
 },
 "nbformat": 4,
 "nbformat_minor": 2
}
