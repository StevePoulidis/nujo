{
 "cells": [
  {
   "cell_type": "code",
   "execution_count": 1,
   "metadata": {},
   "outputs": [],
   "source": [
    "import numpy as np\n",
    "import nujo as nj"
   ]
  },
  {
   "cell_type": "code",
   "execution_count": 2,
   "metadata": {},
   "outputs": [],
   "source": [
    "M = 30\n",
    "x = np.random.rand(M, 3)\n",
    "y = x@[[4, 2], [2, 1], [-1, 1]] - [[2, 2]]\n",
    "\n",
    "x, y = nj.Constant(x), nj.Constant(y)"
   ]
  },
  {
   "cell_type": "code",
   "execution_count": 3,
   "metadata": {
    "scrolled": true
   },
   "outputs": [
    {
     "name": "stdout",
     "output_type": "stream",
     "text": [
      "EPOCH: 100 | LOSS:  7.071869631877375e-08\n",
      "EPOCH: 200 | LOSS:  7.104262312751565e-14\n",
      "EPOCH: 300 | LOSS:  7.219115697542114e-20\n",
      "EPOCH: 400 | LOSS:  7.418285693852228e-26\n",
      "EPOCH: 500 | LOSS:  9.725871321879928e-32\n",
      "EPOCH: 600 | LOSS:  5.100205549008745e-32\n",
      "EPOCH: 700 | LOSS:  4.8530445394790486e-32\n",
      "EPOCH: 800 | LOSS:  4.805153081528619e-32\n",
      "EPOCH: 900 | LOSS:  4.8032699500274407e-32\n",
      "EPOCH: 1000 | LOSS:  4.6178242956045546e-32\n"
     ]
    }
   ],
   "source": [
    "m, b = nj.Variable(np.random.randn(3, 2), name='m'), nj.Variable(np.random.randn(1, 2), name='b')\n",
    "\n",
    "n_epochs = 1000\n",
    "lr = 1\n",
    "\n",
    "for epoch in range(1, n_epochs+1):\n",
    "    \n",
    "    output = x@m + b\n",
    "    loss = (1/M)*((output-y)**2)\n",
    "    \n",
    "    loss.backward()\n",
    "    if epoch % 100 == 0:\n",
    "        print('EPOCH:', epoch, '| LOSS: ', np.mean(loss.value))\n",
    "    \n",
    "    # Update\n",
    "    with nj.no_diff():\n",
    "        m -= lr*m.grad\n",
    "        b -= lr*b.grad\n",
    "        \n",
    "    m.zero_grad()\n",
    "    b.zero_grad()"
   ]
  },
  {
   "cell_type": "code",
   "execution_count": null,
   "metadata": {},
   "outputs": [],
   "source": []
  },
  {
   "cell_type": "code",
   "execution_count": null,
   "metadata": {},
   "outputs": [],
   "source": []
  }
 ],
 "metadata": {
  "kernelspec": {
   "display_name": "Python 3",
   "language": "python",
   "name": "python3"
  },
  "language_info": {
   "codemirror_mode": {
    "name": "ipython",
    "version": 3
   },
   "file_extension": ".py",
   "mimetype": "text/x-python",
   "name": "python",
   "nbconvert_exporter": "python",
   "pygments_lexer": "ipython3",
   "version": "3.7.5"
  }
 },
 "nbformat": 4,
 "nbformat_minor": 2
}
