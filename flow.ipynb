{
 "cells": [
  {
   "cell_type": "code",
   "execution_count": 1,
   "metadata": {},
   "outputs": [],
   "source": [
    "import numpy as np\n",
    "import nujo as nj"
   ]
  },
  {
   "cell_type": "markdown",
   "metadata": {},
   "source": [
    "## Create example data"
   ]
  },
  {
   "cell_type": "code",
   "execution_count": 2,
   "metadata": {},
   "outputs": [],
   "source": [
    "M = 1\n",
    "\n",
    "x = np.random.rand(M, 3)\n",
    "y = x@[[2], [3], [4]] - 10\n",
    "\n",
    "x, y = nj.Constant(x), nj.Constant(y)"
   ]
  },
  {
   "cell_type": "markdown",
   "metadata": {},
   "source": [
    "## Model"
   ]
  },
  {
   "cell_type": "code",
   "execution_count": 3,
   "metadata": {},
   "outputs": [],
   "source": [
    "net = nj.Linear(3, 2) >> nj.Linear(2, 1)"
   ]
  },
  {
   "cell_type": "markdown",
   "metadata": {},
   "source": [
    "## Train"
   ]
  },
  {
   "cell_type": "code",
   "execution_count": 4,
   "metadata": {},
   "outputs": [],
   "source": [
    "def train(num_epochs=1000, lr=0.01):\n",
    "    for epoch in range(1, num_epochs+1):\n",
    "        \n",
    "        # Forward\n",
    "        output = net(x)\n",
    "        \n",
    "        # Compute Loss\n",
    "        loss = (1/M)*(output-y)**2\n",
    "        \n",
    "        if epoch % 100 == 0:\n",
    "            print(np.mean(loss.value))\n",
    "        \n",
    "        # Backprop\n",
    "        loss.backward()\n",
    "        \n",
    "        # Update\n",
    "        with nj.no_diff():\n",
    "            for layer in net:\n",
    "                layer.weights -= lr*layer.weights.grad.mean(-1)\n",
    "                layer.bias -= lr*layer.bias.grad.mean(-1)\n",
    "                \n",
    "        for layer in net:\n",
    "            layer.weights.zero_grad()\n",
    "            layer.bias.zero_grad()"
   ]
  },
  {
   "cell_type": "code",
   "execution_count": 5,
   "metadata": {},
   "outputs": [
    {
     "name": "stdout",
     "output_type": "stream",
     "text": [
      "0.0\n",
      "0.0\n",
      "0.0\n",
      "0.0\n",
      "0.0\n",
      "0.0\n",
      "0.0\n",
      "0.0\n",
      "0.0\n",
      "0.0\n"
     ]
    }
   ],
   "source": [
    "train()"
   ]
  },
  {
   "cell_type": "code",
   "execution_count": null,
   "metadata": {},
   "outputs": [],
   "source": []
  }
 ],
 "metadata": {
  "kernelspec": {
   "display_name": "Python 3",
   "language": "python",
   "name": "python3"
  },
  "language_info": {
   "codemirror_mode": {
    "name": "ipython",
    "version": 3
   },
   "file_extension": ".py",
   "mimetype": "text/x-python",
   "name": "python",
   "nbconvert_exporter": "python",
   "pygments_lexer": "ipython3",
   "version": "3.7.5"
  }
 },
 "nbformat": 4,
 "nbformat_minor": 2
}
