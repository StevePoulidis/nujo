{
 "cells": [
  {
   "cell_type": "code",
   "execution_count": 1,
   "metadata": {},
   "outputs": [],
   "source": [
    "import numpy as np\n",
    "\n",
    "import torch as th\n",
    "import nujo as nj"
   ]
  },
  {
   "cell_type": "code",
   "execution_count": 2,
   "metadata": {},
   "outputs": [],
   "source": [
    "X = np.random.rand(3, 3)\n",
    "y = np.random.rand(3, 1)\n",
    "\n",
    "W1 = np.random.rand(3, 2)\n",
    "W2 = np.random.rand(2, 1)\n",
    "\n",
    "X_nj = nj.Tensor(X)\n",
    "y_nj = nj.Tensor(y)\n",
    "W1_nj = nj.Tensor(W1, diff=True, name='W1')\n",
    "W2_nj = nj.Tensor(W2, diff=True, name='W2')\n",
    "\n",
    "X_th = th.tensor(X)\n",
    "y_th = th.tensor(y)\n",
    "W1_th = th.tensor(W1, requires_grad=True)\n",
    "W2_th = th.tensor(W2, requires_grad=True)"
   ]
  },
  {
   "cell_type": "code",
   "execution_count": 3,
   "metadata": {},
   "outputs": [],
   "source": [
    "loss_nj = nj.prod((X_nj @ W1_nj) ** 2)"
   ]
  },
  {
   "cell_type": "code",
   "execution_count": 4,
   "metadata": {},
   "outputs": [],
   "source": [
    "loss_th = th.prod((X_th @ W1_th) ** 2)"
   ]
  },
  {
   "cell_type": "code",
   "execution_count": 5,
   "metadata": {
    "scrolled": true
   },
   "outputs": [
    {
     "name": "stdout",
     "output_type": "stream",
     "text": [
      "\n",
      "==============================\n",
      "<Z<InnerProd>#14>\n",
      "--------------------------------\n",
      "0.0025919419888222467\n",
      "\n",
      "Shape: ()\n",
      "Has 0 dependencies:\n",
      "Grad Dependecies: []\n",
      "\n",
      "\n",
      "==============================\n",
      "<Z<Pow>#10>\n",
      "--------------------------------\n",
      "[[0.27984964 0.19323951]\n",
      " [0.62759411 0.28920287]\n",
      " [0.44644592 0.59149935]]\n",
      "\n",
      "Shape: (3, 2)\n",
      "Has 1 dependencies:\n",
      "Grad Dependecies: [(<Z<InnerProd>#14 [1]>, <weight[Z<InnerProd>#14]>)]\n",
      "\n",
      "~~~~~~~~~~\n",
      "Z Grad: <grad[Z<InnerProd>#14]>\n",
      "--------------------------------\n",
      "1.0\n",
      "Shape: ()\n",
      "\n",
      "-----\n",
      "Z Weight: <weight[Z<InnerProd>#14]>\n",
      "--------------------------------\n",
      "[[0.00926191 0.01341311]\n",
      " [0.00412997 0.00896237]\n",
      " [0.00580572 0.00438199]]\n",
      "Shape: (3, 2)\n",
      "\n",
      "##########\n",
      "Current Grad: <grad[Z<Pow>#10]>\n",
      "--------------------------------\n",
      "[[0.00926191 0.01341311]\n",
      " [0.00412997 0.00896237]\n",
      " [0.00580572 0.00438199]]\n",
      "Shape: (3, 2)\n",
      "-----\n",
      "\n",
      "\n",
      "==============================\n",
      "<Z<MatMul>#5>\n",
      "--------------------------------\n",
      "[[0.52900817 0.43959017]\n",
      " [0.79220837 0.53777585]\n",
      " [0.66816609 0.76908995]]\n",
      "\n",
      "Shape: (3, 2)\n",
      "Has 1 dependencies:\n",
      "Grad Dependecies: [(<Z<Pow>#10 [2]>, <weight[Z<Pow>#10]>)]\n",
      "\n",
      "~~~~~~~~~~\n",
      "Z Grad: <grad[Z<Pow>#10]>\n",
      "--------------------------------\n",
      "[[0.00926191 0.01341311]\n",
      " [0.00412997 0.00896237]\n",
      " [0.00580572 0.00438199]]\n",
      "Shape: (3, 2)\n",
      "\n",
      "-----\n",
      "Z Weight: <weight[Z<Pow>#10]>\n",
      "--------------------------------\n",
      "[[1.05801634 0.87918033]\n",
      " [1.58441675 1.07555171]\n",
      " [1.33633217 1.5381799 ]]\n",
      "Shape: (3, 2)\n",
      "\n",
      "##########\n",
      "Current Grad: <grad[Z<MatMul>#5]>\n",
      "--------------------------------\n",
      "[[0.00979925 0.01179254]\n",
      " [0.00654359 0.00963949]\n",
      " [0.00775838 0.00674028]]\n",
      "Shape: (3, 2)\n",
      "-----\n",
      "\n",
      "\n",
      "==============================\n",
      "<W1>\n",
      "--------------------------------\n",
      "[[0.64908281 0.21589015]\n",
      " [0.69872945 0.87700751]\n",
      " [0.2516343  0.33493659]]\n",
      "\n",
      "Shape: (3, 2)\n",
      "Has 1 dependencies:\n",
      "Grad Dependecies: [(<Z<MatMul>#5 [3]>, <weight[Z<MatMul>#5]>)]\n",
      "\n",
      "~~~~~~~~~~\n",
      "Z Grad: <grad[Z<MatMul>#5]>\n",
      "--------------------------------\n",
      "[[0.00979925 0.01179254]\n",
      " [0.00654359 0.00963949]\n",
      " [0.00775838 0.00674028]]\n",
      "Shape: (3, 2)\n",
      "\n",
      "-----\n",
      "Z Weight: <weight[Z<MatMul>#5]>\n",
      "--------------------------------\n",
      "[[0.39822254 0.12196464 0.73641981]\n",
      " [0.78928712 0.09762283 0.84123558]\n",
      " [0.14166262 0.53668906 0.79963209]]\n",
      "Shape: (3, 3)\n",
      "\n",
      "##########\n",
      "Current Grad: <grad[W1]>\n",
      "--------------------------------\n",
      "[[0.01016612 0.01325922]\n",
      " [0.0059978  0.00599674]\n",
      " [0.01892491 0.02218309]]\n",
      "Shape: (3, 2)\n",
      "-----\n",
      "\n"
     ]
    }
   ],
   "source": [
    "loss_nj.backward(_debug=True)\n",
    "loss_th.backward(th.ones_like(loss_th))"
   ]
  },
  {
   "cell_type": "code",
   "execution_count": 6,
   "metadata": {},
   "outputs": [
    {
     "name": "stdout",
     "output_type": "stream",
     "text": [
      "0.0\n"
     ]
    }
   ],
   "source": [
    "print(loss_nj.value - loss_th.detach().numpy())"
   ]
  },
  {
   "cell_type": "code",
   "execution_count": 7,
   "metadata": {},
   "outputs": [
    {
     "name": "stdout",
     "output_type": "stream",
     "text": [
      "[[0. 0.]\n",
      " [0. 0.]\n",
      " [0. 0.]]\n"
     ]
    }
   ],
   "source": [
    "print(np.abs(W1_nj.grad.value - W1_th.grad.detach().numpy()))"
   ]
  },
  {
   "cell_type": "code",
   "execution_count": 8,
   "metadata": {},
   "outputs": [
    {
     "ename": "AttributeError",
     "evalue": "'NoneType' object has no attribute 'detach'",
     "output_type": "error",
     "traceback": [
      "\u001b[0;31m---------------------------------------------------------------------------\u001b[0m",
      "\u001b[0;31mAttributeError\u001b[0m                            Traceback (most recent call last)",
      "\u001b[0;32m<ipython-input-8-ba1e54fa31b0>\u001b[0m in \u001b[0;36m<module>\u001b[0;34m\u001b[0m\n\u001b[0;32m----> 1\u001b[0;31m \u001b[0mprint\u001b[0m\u001b[0;34m(\u001b[0m\u001b[0mnp\u001b[0m\u001b[0;34m.\u001b[0m\u001b[0mabs\u001b[0m\u001b[0;34m(\u001b[0m\u001b[0mW2_nj\u001b[0m\u001b[0;34m.\u001b[0m\u001b[0mgrad\u001b[0m\u001b[0;34m.\u001b[0m\u001b[0mvalue\u001b[0m \u001b[0;34m-\u001b[0m \u001b[0mW2_th\u001b[0m\u001b[0;34m.\u001b[0m\u001b[0mgrad\u001b[0m\u001b[0;34m.\u001b[0m\u001b[0mdetach\u001b[0m\u001b[0;34m(\u001b[0m\u001b[0;34m)\u001b[0m\u001b[0;34m.\u001b[0m\u001b[0mnumpy\u001b[0m\u001b[0;34m(\u001b[0m\u001b[0;34m)\u001b[0m\u001b[0;34m)\u001b[0m\u001b[0;34m)\u001b[0m\u001b[0;34m\u001b[0m\u001b[0;34m\u001b[0m\u001b[0m\n\u001b[0m",
      "\u001b[0;31mAttributeError\u001b[0m: 'NoneType' object has no attribute 'detach'"
     ]
    }
   ],
   "source": [
    "print(np.abs(W2_nj.grad.value - W2_th.grad.detach().numpy()))"
   ]
  },
  {
   "cell_type": "code",
   "execution_count": 11,
   "metadata": {},
   "outputs": [
    {
     "data": {
      "text/plain": [
       "array([[1.],\n",
       "       [0.],\n",
       "       [0.],\n",
       "       [0.],\n",
       "       [0.],\n",
       "       [0.]])"
      ]
     },
     "execution_count": 11,
     "metadata": {},
     "output_type": "execute_result"
    }
   ],
   "source": [
    "np.eye(6, 1)"
   ]
  },
  {
   "cell_type": "code",
   "execution_count": null,
   "metadata": {},
   "outputs": [],
   "source": []
  },
  {
   "cell_type": "code",
   "execution_count": null,
   "metadata": {},
   "outputs": [],
   "source": []
  },
  {
   "cell_type": "code",
   "execution_count": null,
   "metadata": {},
   "outputs": [],
   "source": []
  },
  {
   "cell_type": "code",
   "execution_count": null,
   "metadata": {},
   "outputs": [],
   "source": []
  }
 ],
 "metadata": {
  "kernelspec": {
   "display_name": "Python 3",
   "language": "python",
   "name": "python3"
  },
  "language_info": {
   "codemirror_mode": {
    "name": "ipython",
    "version": 3
   },
   "file_extension": ".py",
   "mimetype": "text/x-python",
   "name": "python",
   "nbconvert_exporter": "python",
   "pygments_lexer": "ipython3",
   "version": "3.7.7"
  }
 },
 "nbformat": 4,
 "nbformat_minor": 4
}
