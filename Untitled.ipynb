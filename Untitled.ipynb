{
 "cells": [
  {
   "cell_type": "code",
   "execution_count": 1,
   "metadata": {},
   "outputs": [],
   "source": [
    "import numpy as np\n",
    "\n",
    "import torch as th\n",
    "import nujo as nj"
   ]
  },
  {
   "cell_type": "code",
   "execution_count": 2,
   "metadata": {},
   "outputs": [],
   "source": [
    "X = np.random.rand(2, 2) * 10\n",
    "y = np.random.rand(3, 1) * 10\n",
    "W = np.random.rand(2, 2) * 10\n",
    "\n",
    "X_nj = nj.Tensor(X, diff=False)\n",
    "y_nj = nj.Tensor(y, diff=False)\n",
    "W_nj = nj.Tensor(W, name='W')\n",
    "\n",
    "\n",
    "X_th = th.tensor(X)\n",
    "y_th = th.tensor(y)\n",
    "W_th = th.tensor(W, requires_grad=True)"
   ]
  },
  {
   "cell_type": "code",
   "execution_count": 3,
   "metadata": {},
   "outputs": [],
   "source": [
    "loss_nj = (W_nj @ X_nj) ** 0.5"
   ]
  },
  {
   "cell_type": "code",
   "execution_count": 4,
   "metadata": {},
   "outputs": [],
   "source": [
    "loss_th = (W_th @ X_th) ** 0.5"
   ]
  },
  {
   "cell_type": "code",
   "execution_count": 5,
   "metadata": {
    "scrolled": true
   },
   "outputs": [
    {
     "name": "stdout",
     "output_type": "stream",
     "text": [
      "\n",
      "==============================\n",
      "<Z<Pow>#9>\n",
      "--------------------------------\n",
      "[[ 7.26436348  5.490186  ]\n",
      " [10.59354893  8.04426014]]\n",
      "\n",
      "Shape: (2, 2)\n",
      "Has 0 dependencies:\n",
      "Grad Dependecies: []\n",
      "\n",
      "\n",
      "==============================\n",
      "<Z<MatMul>#4>\n",
      "--------------------------------\n",
      "[[ 52.77097682  30.14214232]\n",
      " [112.22327883  64.71012125]]\n",
      "\n",
      "Shape: (2, 2)\n",
      "Has 1 dependencies:\n",
      "Grad Dependecies: [(<Z<Pow>#9 [1]>, <weight[Z<Pow>#9]>)]\n",
      "\n",
      "~~~~~~~~~~\n",
      "Z Grad: <grad[Z<Pow>#9]>\n",
      "--------------------------------\n",
      "[[1. 1.]\n",
      " [1. 1.]]\n",
      "Shape: (2, 2)\n",
      "\n",
      "-----\n",
      "Z Weight: <weight[Z<Pow>#9]>\n",
      "--------------------------------\n",
      "[[0.06882915 0.0910716 ]\n",
      " [0.04719854 0.06215612]]\n",
      "Shape: (2, 2)\n",
      "\n",
      "##########\n",
      "Current Grad: <grad[Z<MatMul>#4]>\n",
      "--------------------------------\n",
      "[[0.06882915 0.0910716 ]\n",
      " [0.04719854 0.06215612]]\n",
      "Shape: (2, 2)\n",
      "-----\n",
      "\n",
      "\n",
      "==============================\n",
      "<W>\n",
      "--------------------------------\n",
      "[[3.94581488 4.89097763]\n",
      " [8.93447908 8.95845774]]\n",
      "\n",
      "Shape: (2, 2)\n",
      "Has 1 dependencies:\n",
      "Grad Dependecies: [(<Z<MatMul>#4 [2]>, <weight[Z<MatMul>#4]>)]\n",
      "\n",
      "~~~~~~~~~~\n",
      "Z Grad: <grad[Z<MatMul>#4]>\n",
      "--------------------------------\n",
      "[[0.06882915 0.0910716 ]\n",
      " [0.04719854 0.06215612]]\n",
      "Shape: (2, 2)\n",
      "\n",
      "-----\n",
      "Z Weight: <weight[Z<MatMul>#4]>\n",
      "--------------------------------\n",
      "[[14.6832073   5.10652536]\n",
      " [14.6832073   5.10652536]]\n",
      "Shape: (2, 2)\n",
      "\n",
      "##########\n",
      "Current Grad: <grad[W]>\n",
      "--------------------------------\n",
      "[[1.01063275 0.46505941]\n",
      " [0.69302589 0.3174018 ]]\n",
      "Shape: (2, 2)\n",
      "-----\n",
      "\n"
     ]
    }
   ],
   "source": [
    "loss_nj.backward(_debug=True)\n",
    "loss_th.backward(th.ones_like(loss_th))"
   ]
  },
  {
   "cell_type": "code",
   "execution_count": 6,
   "metadata": {},
   "outputs": [],
   "source": [
    "# assert (loss_nj.value == loss_th.detach().numpy()).all()"
   ]
  },
  {
   "cell_type": "code",
   "execution_count": 7,
   "metadata": {},
   "outputs": [
    {
     "name": "stdout",
     "output_type": "stream",
     "text": [
      "[[0.12378274 0.07636795]\n",
      " [0.08324135 0.05135588]]\n"
     ]
    }
   ],
   "source": [
    "print(np.abs(W_nj.grad.value - W_th.grad.detach().numpy()))"
   ]
  },
  {
   "cell_type": "code",
   "execution_count": null,
   "metadata": {},
   "outputs": [],
   "source": []
  },
  {
   "cell_type": "code",
   "execution_count": null,
   "metadata": {},
   "outputs": [],
   "source": []
  },
  {
   "cell_type": "code",
   "execution_count": 8,
   "metadata": {},
   "outputs": [],
   "source": [
    "# from nujo.utils.viz import ComputationGraphPlotter"
   ]
  },
  {
   "cell_type": "code",
   "execution_count": 9,
   "metadata": {},
   "outputs": [],
   "source": [
    "# cg_plot = ComputationGraphPlotter(filename='graph').create(loss_nj)\n",
    "# cg_plot.view()"
   ]
  },
  {
   "cell_type": "code",
   "execution_count": null,
   "metadata": {},
   "outputs": [],
   "source": []
  }
 ],
 "metadata": {
  "kernelspec": {
   "display_name": "Python 3",
   "language": "python",
   "name": "python3"
  },
  "language_info": {
   "codemirror_mode": {
    "name": "ipython",
    "version": 3
   },
   "file_extension": ".py",
   "mimetype": "text/x-python",
   "name": "python",
   "nbconvert_exporter": "python",
   "pygments_lexer": "ipython3",
   "version": "3.7.7"
  }
 },
 "nbformat": 4,
 "nbformat_minor": 4
}
