{
 "cells": [
  {
   "cell_type": "code",
   "execution_count": 1,
   "metadata": {},
   "outputs": [],
   "source": [
    "import torch\n",
    "import torch.nn as nn\n",
    "import torch.optim as optim"
   ]
  },
  {
   "cell_type": "code",
   "execution_count": 13,
   "metadata": {},
   "outputs": [
    {
     "name": "stdout",
     "output_type": "stream",
     "text": [
      "Defined net: Sequential(\n",
      "  (0): Linear(in_features=3, out_features=6, bias=True)\n",
      "  (1): Linear(in_features=6, out_features=2, bias=True)\n",
      "  (2): Linear(in_features=2, out_features=1, bias=True)\n",
      ")\n",
      "Loss: L1Loss()\n",
      "Optimizer: Adam (\n",
      "Parameter Group 0\n",
      "    amsgrad: False\n",
      "    betas: (0.9, 0.999)\n",
      "    eps: 1e-08\n",
      "    lr: 0.3\n",
      "    weight_decay: 0\n",
      ")\n"
     ]
    }
   ],
   "source": [
    "# Define the net and optimizer\n",
    "net = nn.Sequential(nn.Linear(3, 6), nn.Linear(6, 2), nn.Linear(2, 1))\n",
    "print('Defined net:', net)\n",
    "\n",
    "loss_fn = nn.L1Loss()\n",
    "print('Loss:', loss_fn)\n",
    "\n",
    "optimizer = optim.Adam(net.parameters(), lr=0.3)\n",
    "print('Optimizer:', optimizer)"
   ]
  },
  {
   "cell_type": "code",
   "execution_count": null,
   "metadata": {},
   "outputs": [],
   "source": []
  },
  {
   "cell_type": "code",
   "execution_count": 14,
   "metadata": {},
   "outputs": [
    {
     "name": "stdout",
     "output_type": "stream",
     "text": [
      "EPOCH: 10 | LOSS:  1.5516716241836548\n",
      "EPOCH: 20 | LOSS:  1.3870434761047363\n",
      "EPOCH: 30 | LOSS:  0.6219279766082764\n",
      "EPOCH: 40 | LOSS:  0.2657186686992645\n",
      "EPOCH: 50 | LOSS:  0.12284798920154572\n",
      "EPOCH: 60 | LOSS:  0.5136113166809082\n",
      "EPOCH: 70 | LOSS:  0.5163255929946899\n",
      "EPOCH: 80 | LOSS:  0.383846253156662\n",
      "EPOCH: 90 | LOSS:  0.20480607450008392\n",
      "EPOCH: 100 | LOSS:  0.21435002982616425\n"
     ]
    }
   ],
   "source": [
    "# Training loop\n",
    "def train(net, x, y, num_epochs):\n",
    "    for epoch in range(1, num_epochs + 1):\n",
    "\n",
    "        # Forward\n",
    "        output = net(x)\n",
    "        # Compute Loss\n",
    "        loss = loss_fn(output, y)\n",
    "\n",
    "        # Print the loss every 10th epoch for monitoring\n",
    "        if epoch % 10 == 0:\n",
    "            print('EPOCH:', epoch, '| LOSS: ', loss.item())\n",
    "\n",
    "        # Backprop\n",
    "        loss.backward()\n",
    "\n",
    "        # Update\n",
    "        optimizer.step()\n",
    "\n",
    "        # Zero grad\n",
    "        optimizer.zero_grad()\n",
    "\n",
    "    return loss\n",
    "\n",
    "\n",
    "if __name__ == '__main__':\n",
    "    # Create example data\n",
    "    x = torch.rand(30, 3)\n",
    "    y = torch.Tensor(x @ torch.Tensor([[2], [3], [4]]) - 10)\n",
    "\n",
    "    # Train\n",
    "    loss = train(net, x, y, 100)"
   ]
  },
  {
   "cell_type": "code",
   "execution_count": 16,
   "metadata": {},
   "outputs": [],
   "source": [
    "a = list(net.parameters())"
   ]
  },
  {
   "cell_type": "code",
   "execution_count": 19,
   "metadata": {},
   "outputs": [
    {
     "data": {
      "text/plain": [
       "tensor([[0., 0., 0.],\n",
       "        [0., 0., 0.],\n",
       "        [0., 0., 0.],\n",
       "        [0., 0., 0.],\n",
       "        [0., 0., 0.],\n",
       "        [0., 0., 0.]])"
      ]
     },
     "execution_count": 19,
     "metadata": {},
     "output_type": "execute_result"
    }
   ],
   "source": [
    "a[0].grad"
   ]
  },
  {
   "cell_type": "code",
   "execution_count": null,
   "metadata": {},
   "outputs": [],
   "source": []
  }
 ],
 "metadata": {
  "kernelspec": {
   "display_name": "Python 3",
   "language": "python",
   "name": "python3"
  },
  "language_info": {
   "codemirror_mode": {
    "name": "ipython",
    "version": 3
   },
   "file_extension": ".py",
   "mimetype": "text/x-python",
   "name": "python",
   "nbconvert_exporter": "python",
   "pygments_lexer": "ipython3",
   "version": "3.7.7"
  }
 },
 "nbformat": 4,
 "nbformat_minor": 4
}
