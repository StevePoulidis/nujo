{
 "cells": [
  {
   "cell_type": "code",
   "execution_count": 1,
   "metadata": {},
   "outputs": [],
   "source": [
    "import numpy as np\n",
    "\n",
    "import torch as th\n",
    "import nujo as nj"
   ]
  },
  {
   "cell_type": "code",
   "execution_count": 2,
   "metadata": {},
   "outputs": [],
   "source": [
    "X = np.random.rand(3, 3)\n",
    "y = np.random.rand(3, 1)\n",
    "\n",
    "W1 = np.random.rand(3, 2)\n",
    "W2 = np.random.rand(2, 1)\n",
    "\n",
    "X_nj = nj.Tensor(X, diff=False)\n",
    "y_nj = nj.Tensor(y, diff=False)\n",
    "W1_nj = nj.Tensor(W1, name='W1')\n",
    "W2_nj = nj.Tensor(W2, name='W2')\n",
    "\n",
    "\n",
    "X_th = th.tensor(X)\n",
    "y_th = th.tensor(y)\n",
    "W1_th = th.tensor(W1, requires_grad=True)\n",
    "W2_th = th.tensor(W2, requires_grad=True)"
   ]
  },
  {
   "cell_type": "code",
   "execution_count": 3,
   "metadata": {},
   "outputs": [],
   "source": [
    "loss_nj = nj.sum()((X_nj @ W1_nj @ W2_nj - y_nj) ** 2)"
   ]
  },
  {
   "cell_type": "code",
   "execution_count": 4,
   "metadata": {},
   "outputs": [],
   "source": [
    "loss_th = th.sum((X_th @ W1_th @ W2_th - y_th) ** 2)"
   ]
  },
  {
   "cell_type": "code",
   "execution_count": 5,
   "metadata": {
    "scrolled": true
   },
   "outputs": [
    {
     "name": "stdout",
     "output_type": "stream",
     "text": [
      "\n",
      "==============================\n",
      "<Z<InnerSum>#24>\n",
      "--------------------------------\n",
      "[2.31041599]\n",
      "\n",
      "Shape: (1,)\n",
      "Has 0 dependencies:\n",
      "Grad Dependecies: []\n",
      "\n",
      "\n",
      "==============================\n",
      "<Z<Pow>#20>\n",
      "--------------------------------\n",
      "[[0.10121254]\n",
      " [2.09964836]\n",
      " [0.10955509]]\n",
      "\n",
      "Shape: (3, 1)\n",
      "Has 1 dependencies:\n",
      "Grad Dependecies: [(<Z<InnerSum>#24 [1]>, <weight[Z<InnerSum>#24]>)]\n",
      "\n",
      "~~~~~~~~~~\n",
      "Z Grad: <grad[Z<InnerSum>#24]>\n",
      "--------------------------------\n",
      "[1.]\n",
      "Shape: (1,)\n",
      "\n",
      "-----\n",
      "Z Weight: <weight[Z<InnerSum>#24]>\n",
      "--------------------------------\n",
      "[[1.]\n",
      " [1.]\n",
      " [1.]]\n",
      "Shape: (3, 1)\n",
      "\n",
      "##########\n",
      "Current Grad: <grad[Z<Pow>#20]>\n",
      "--------------------------------\n",
      "[[1.]\n",
      " [1.]\n",
      " [1.]]\n",
      "Shape: (3, 1)\n",
      "-----\n",
      "\n",
      "\n",
      "==============================\n",
      "<Z<Add>#15>\n",
      "--------------------------------\n",
      "[[-0.31813919]\n",
      " [ 1.44901634]\n",
      " [ 0.33099107]]\n",
      "\n",
      "Shape: (3, 1)\n",
      "Has 1 dependencies:\n",
      "Grad Dependecies: [(<Z<Pow>#20 [2]>, <weight[Z<Pow>#20]>)]\n",
      "\n",
      "~~~~~~~~~~\n",
      "Z Grad: <grad[Z<Pow>#20]>\n",
      "--------------------------------\n",
      "[[1.]\n",
      " [1.]\n",
      " [1.]]\n",
      "Shape: (3, 1)\n",
      "\n",
      "-----\n",
      "Z Weight: <weight[Z<Pow>#20]>\n",
      "--------------------------------\n",
      "[[-0.63627838]\n",
      " [ 2.89803268]\n",
      " [ 0.66198215]]\n",
      "Shape: (3, 1)\n",
      "\n",
      "##########\n",
      "Current Grad: <grad[Z<Add>#15]>\n",
      "--------------------------------\n",
      "[[-0.63627838]\n",
      " [ 2.89803268]\n",
      " [ 0.66198215]]\n",
      "Shape: (3, 1)\n",
      "-----\n",
      "\n",
      "\n",
      "==============================\n",
      "<Z<MatMul>#9>\n",
      "--------------------------------\n",
      "[[0.35100881]\n",
      " [1.53783327]\n",
      " [1.14861807]]\n",
      "\n",
      "Shape: (3, 1)\n",
      "Has 1 dependencies:\n",
      "Grad Dependecies: [(<Z<Add>#15 [3]>, <weight[Z<Add>#15]>)]\n",
      "\n",
      "~~~~~~~~~~\n",
      "Z Grad: <grad[Z<Add>#15]>\n",
      "--------------------------------\n",
      "[[-0.63627838]\n",
      " [ 2.89803268]\n",
      " [ 0.66198215]]\n",
      "Shape: (3, 1)\n",
      "\n",
      "-----\n",
      "Z Weight: <weight[Z<Add>#15]>\n",
      "--------------------------------\n",
      "[[1.]\n",
      " [1.]\n",
      " [1.]]\n",
      "Shape: (3, 1)\n",
      "\n",
      "##########\n",
      "Current Grad: <grad[Z<MatMul>#9]>\n",
      "--------------------------------\n",
      "[[-0.63627838]\n",
      " [ 2.89803268]\n",
      " [ 0.66198215]]\n",
      "Shape: (3, 1)\n",
      "-----\n",
      "\n",
      "\n",
      "==============================\n",
      "<Z<MatMul>#5>\n",
      "--------------------------------\n",
      "[[0.27755337 0.59036643]\n",
      " [1.36151986 2.22785324]\n",
      " [1.1322378  1.3797836 ]]\n",
      "\n",
      "Shape: (3, 2)\n",
      "Has 1 dependencies:\n",
      "Grad Dependecies: [(<Z<MatMul>#9 [5]>, <weight[Z<MatMul>#9]>)]\n",
      "\n",
      "~~~~~~~~~~\n",
      "Z Grad: <grad[Z<MatMul>#9]>\n",
      "--------------------------------\n",
      "[[-0.63627838]\n",
      " [ 2.89803268]\n",
      " [ 0.66198215]]\n",
      "Shape: (3, 1)\n",
      "\n",
      "-----\n",
      "Z Weight: <weight[Z<MatMul>#9]>\n",
      "--------------------------------\n",
      "[[0.67883934]\n",
      " [0.27541313]]\n",
      "Shape: (2, 1)\n",
      "\n"
     ]
    },
    {
     "ename": "ValueError",
     "evalue": "operands could not be broadcast together with shapes (3,1) (2,1) ",
     "output_type": "error",
     "traceback": [
      "\u001b[0;31m---------------------------------------------------------------------------\u001b[0m",
      "\u001b[0;31mValueError\u001b[0m                                Traceback (most recent call last)",
      "\u001b[0;32m<ipython-input-5-7e57031796c3>\u001b[0m in \u001b[0;36m<module>\u001b[0;34m\u001b[0m\n\u001b[0;32m----> 1\u001b[0;31m \u001b[0mloss_nj\u001b[0m\u001b[0;34m.\u001b[0m\u001b[0mbackward\u001b[0m\u001b[0;34m(\u001b[0m\u001b[0m_debug\u001b[0m\u001b[0;34m=\u001b[0m\u001b[0;32mTrue\u001b[0m\u001b[0;34m)\u001b[0m\u001b[0;34m\u001b[0m\u001b[0;34m\u001b[0m\u001b[0m\n\u001b[0m\u001b[1;32m      2\u001b[0m \u001b[0mloss_th\u001b[0m\u001b[0;34m.\u001b[0m\u001b[0mbackward\u001b[0m\u001b[0;34m(\u001b[0m\u001b[0mth\u001b[0m\u001b[0;34m.\u001b[0m\u001b[0mones_like\u001b[0m\u001b[0;34m(\u001b[0m\u001b[0mloss_th\u001b[0m\u001b[0;34m)\u001b[0m\u001b[0;34m)\u001b[0m\u001b[0;34m\u001b[0m\u001b[0;34m\u001b[0m\u001b[0m\n",
      "\u001b[0;32m~/Desktop/nujo/nujo/autodiff/tensor.py\u001b[0m in \u001b[0;36mbackward\u001b[0;34m(self, _debug)\u001b[0m\n\u001b[1;32m    201\u001b[0m         \u001b[0;32mwhile\u001b[0m \u001b[0mnodes_to_visit\u001b[0m\u001b[0;34m:\u001b[0m\u001b[0;34m\u001b[0m\u001b[0;34m\u001b[0m\u001b[0m\n\u001b[1;32m    202\u001b[0m             \u001b[0mnode\u001b[0m \u001b[0;34m=\u001b[0m \u001b[0mnodes_to_visit\u001b[0m\u001b[0;34m.\u001b[0m\u001b[0mpop\u001b[0m\u001b[0;34m(\u001b[0m\u001b[0;34m)\u001b[0m\u001b[0;34m\u001b[0m\u001b[0;34m\u001b[0m\u001b[0m\n\u001b[0;32m--> 203\u001b[0;31m             \u001b[0mnode\u001b[0m\u001b[0;34m.\u001b[0m\u001b[0m_compute_grad\u001b[0m\u001b[0;34m(\u001b[0m\u001b[0m_debug\u001b[0m\u001b[0;34m=\u001b[0m\u001b[0m_debug\u001b[0m\u001b[0;34m)\u001b[0m\u001b[0;34m\u001b[0m\u001b[0;34m\u001b[0m\u001b[0m\n\u001b[0m\u001b[1;32m    204\u001b[0m \u001b[0;34m\u001b[0m\u001b[0m\n\u001b[1;32m    205\u001b[0m             \u001b[0;32mif\u001b[0m \u001b[0m_debug\u001b[0m\u001b[0;34m:\u001b[0m\u001b[0;34m\u001b[0m\u001b[0;34m\u001b[0m\u001b[0m\n",
      "\u001b[0;32m~/Desktop/nujo/nujo/autodiff/tensor.py\u001b[0m in \u001b[0;36m_compute_grad\u001b[0;34m(self, _debug)\u001b[0m\n\u001b[1;32m    174\u001b[0m                 \u001b[0;32melse\u001b[0m\u001b[0;34m:\u001b[0m\u001b[0;34m\u001b[0m\u001b[0;34m\u001b[0m\u001b[0m\n\u001b[1;32m    175\u001b[0m                     \u001b[0mself\u001b[0m\u001b[0;34m.\u001b[0m\u001b[0m_grad\u001b[0m\u001b[0;34m.\u001b[0m\u001b[0mvalue\u001b[0m \u001b[0;34m=\u001b[0m \u001b[0mself\u001b[0m\u001b[0;34m.\u001b[0m\u001b[0m_grad\u001b[0m\u001b[0;34m.\u001b[0m\u001b[0mvalue\u001b[0m \u001b[0;34m+\u001b[0m\u001b[0;31m \u001b[0m\u001b[0;31m\\\u001b[0m\u001b[0;34m\u001b[0m\u001b[0;34m\u001b[0m\u001b[0m\n\u001b[0;32m--> 176\u001b[0;31m                         \u001b[0mz\u001b[0m\u001b[0;34m.\u001b[0m\u001b[0mgrad\u001b[0m\u001b[0;34m.\u001b[0m\u001b[0mvalue\u001b[0m \u001b[0;34m*\u001b[0m \u001b[0mweight\u001b[0m\u001b[0;34m.\u001b[0m\u001b[0mvalue\u001b[0m\u001b[0;34m\u001b[0m\u001b[0;34m\u001b[0m\u001b[0m\n\u001b[0m\u001b[1;32m    177\u001b[0m \u001b[0;34m\u001b[0m\u001b[0m\n\u001b[1;32m    178\u001b[0m             \u001b[0;32mif\u001b[0m \u001b[0m_debug\u001b[0m\u001b[0;34m:\u001b[0m\u001b[0;34m\u001b[0m\u001b[0;34m\u001b[0m\u001b[0m\n",
      "\u001b[0;31mValueError\u001b[0m: operands could not be broadcast together with shapes (3,1) (2,1) "
     ]
    }
   ],
   "source": [
    "loss_nj.backward(_debug=True)\n",
    "loss_th.backward(th.ones_like(loss_th))"
   ]
  },
  {
   "cell_type": "code",
   "execution_count": null,
   "metadata": {},
   "outputs": [],
   "source": [
    "print(loss_nj.value - loss_th.detach().numpy())"
   ]
  },
  {
   "cell_type": "code",
   "execution_count": null,
   "metadata": {},
   "outputs": [],
   "source": [
    "print(np.abs(W1_nj.grad.value - W1_th.grad.detach().numpy()))"
   ]
  },
  {
   "cell_type": "code",
   "execution_count": null,
   "metadata": {},
   "outputs": [],
   "source": [
    "print(np.abs(W2_nj.grad.value - W2_th.grad.detach().numpy()))"
   ]
  },
  {
   "cell_type": "code",
   "execution_count": null,
   "metadata": {},
   "outputs": [],
   "source": []
  },
  {
   "cell_type": "code",
   "execution_count": null,
   "metadata": {},
   "outputs": [],
   "source": []
  },
  {
   "cell_type": "code",
   "execution_count": null,
   "metadata": {},
   "outputs": [],
   "source": []
  },
  {
   "cell_type": "code",
   "execution_count": null,
   "metadata": {},
   "outputs": [],
   "source": [
    "# from nujo.utils.viz import ComputationGraphPlotter"
   ]
  },
  {
   "cell_type": "code",
   "execution_count": null,
   "metadata": {},
   "outputs": [],
   "source": [
    "# cg_plot = ComputationGraphPlotter(filename='graph').create(loss_nj)\n",
    "# cg_plot.view()"
   ]
  },
  {
   "cell_type": "code",
   "execution_count": null,
   "metadata": {},
   "outputs": [],
   "source": []
  }
 ],
 "metadata": {
  "kernelspec": {
   "display_name": "Python 3",
   "language": "python",
   "name": "python3"
  },
  "language_info": {
   "codemirror_mode": {
    "name": "ipython",
    "version": 3
   },
   "file_extension": ".py",
   "mimetype": "text/x-python",
   "name": "python",
   "nbconvert_exporter": "python",
   "pygments_lexer": "ipython3",
   "version": "3.7.7"
  }
 },
 "nbformat": 4,
 "nbformat_minor": 4
}
