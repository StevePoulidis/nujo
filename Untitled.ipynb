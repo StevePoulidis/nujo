{
 "cells": [
  {
   "cell_type": "code",
   "execution_count": 1,
   "metadata": {},
   "outputs": [],
   "source": [
    "import numpy as np\n",
    "\n",
    "import torch as th\n",
    "import nujo as nj"
   ]
  },
  {
   "cell_type": "code",
   "execution_count": 2,
   "metadata": {},
   "outputs": [],
   "source": [
    "X = np.random.rand(3, 3)\n",
    "y = np.random.rand(3, 1)\n",
    "\n",
    "W1 = np.random.rand(3, 2)\n",
    "W2 = np.random.rand(2, 1)\n",
    "\n",
    "X_nj = nj.Tensor(X, diff=False)\n",
    "y_nj = nj.Tensor(y, diff=False)\n",
    "W1_nj = nj.Tensor(W1, name='W1')\n",
    "W2_nj = nj.Tensor(W2, name='W2')\n",
    "\n",
    "\n",
    "X_th = th.tensor(X)\n",
    "y_th = th.tensor(y)\n",
    "W1_th = th.tensor(W1, requires_grad=True)\n",
    "W2_th = th.tensor(W2, requires_grad=True)"
   ]
  },
  {
   "cell_type": "code",
   "execution_count": 3,
   "metadata": {},
   "outputs": [],
   "source": [
    "loss_nj = nj.sum()((X_nj @ W1_nj @ W2_nj - y_nj) ** 2)"
   ]
  },
  {
   "cell_type": "code",
   "execution_count": 4,
   "metadata": {},
   "outputs": [],
   "source": [
    "loss_th = th.sum((X_th @ W1_th @ W2_th - y_th) ** 2)"
   ]
  },
  {
   "cell_type": "code",
   "execution_count": 5,
   "metadata": {
    "scrolled": true
   },
   "outputs": [
    {
     "name": "stdout",
     "output_type": "stream",
     "text": [
      "\n",
      "==============================\n",
      "<Z<InnerSum>#24>\n",
      "--------------------------------\n",
      "[0.04295544]\n",
      "\n",
      "Shape: (1,)\n",
      "Has 0 dependencies:\n",
      "Grad Dependecies: []\n",
      "\n",
      "\n",
      "==============================\n",
      "<Z<Pow>#20>\n",
      "--------------------------------\n",
      "[[0.01206353]\n",
      " [0.02721519]\n",
      " [0.00367672]]\n",
      "\n",
      "Shape: (3, 1)\n",
      "Has 1 dependencies:\n",
      "Grad Dependecies: [(<Z<InnerSum>#24 [1]>, <weight[Z<InnerSum>#24]>)]\n",
      "\n",
      "~~~~~~~~~~\n",
      "Z Grad: <grad[Z<InnerSum>#24]>\n",
      "--------------------------------\n",
      "[1.]\n",
      "Shape: (1,)\n",
      "\n",
      "-----\n",
      "Z Weight: <weight[Z<InnerSum>#24]>\n",
      "--------------------------------\n",
      "[[1.]\n",
      " [1.]\n",
      " [1.]]\n",
      "Shape: (3, 1)\n",
      "\n",
      "##########\n",
      "Current Grad: <grad[Z<Pow>#20]>\n",
      "--------------------------------\n",
      "[[1.]\n",
      " [1.]\n",
      " [1.]]\n",
      "Shape: (3, 1)\n",
      "-----\n",
      "\n",
      "\n",
      "==============================\n",
      "<Z<Add>#15>\n",
      "--------------------------------\n",
      "[[0.10983408]\n",
      " [0.16497027]\n",
      " [0.06063599]]\n",
      "\n",
      "Shape: (3, 1)\n",
      "Has 1 dependencies:\n",
      "Grad Dependecies: [(<Z<Pow>#20 [2]>, <weight[Z<Pow>#20]>)]\n",
      "\n",
      "~~~~~~~~~~\n",
      "Z Grad: <grad[Z<Pow>#20]>\n",
      "--------------------------------\n",
      "[[1.]\n",
      " [1.]\n",
      " [1.]]\n",
      "Shape: (3, 1)\n",
      "\n",
      "-----\n",
      "Z Weight: <weight[Z<Pow>#20]>\n",
      "--------------------------------\n",
      "[[0.21966816]\n",
      " [0.32994054]\n",
      " [0.12127199]]\n",
      "Shape: (3, 1)\n",
      "\n",
      "##########\n",
      "Current Grad: <grad[Z<Add>#15]>\n",
      "--------------------------------\n",
      "[[0.21966816]\n",
      " [0.32994054]\n",
      " [0.12127199]]\n",
      "Shape: (3, 1)\n",
      "-----\n",
      "\n",
      "\n",
      "==============================\n",
      "<Z<MatMul>#9>\n",
      "--------------------------------\n",
      "[[0.91995937]\n",
      " [0.578492  ]\n",
      " [0.15861296]]\n",
      "\n",
      "Shape: (3, 1)\n",
      "Has 1 dependencies:\n",
      "Grad Dependecies: [(<Z<Add>#15 [3]>, <weight[Z<Add>#15]>)]\n",
      "\n",
      "~~~~~~~~~~\n",
      "Z Grad: <grad[Z<Add>#15]>\n",
      "--------------------------------\n",
      "[[0.21966816]\n",
      " [0.32994054]\n",
      " [0.12127199]]\n",
      "Shape: (3, 1)\n",
      "\n",
      "-----\n",
      "Z Weight: <weight[Z<Add>#15]>\n",
      "--------------------------------\n",
      "[[1.]\n",
      " [1.]\n",
      " [1.]]\n",
      "Shape: (3, 1)\n",
      "\n",
      "##########\n",
      "Current Grad: <grad[Z<MatMul>#9]>\n",
      "--------------------------------\n",
      "[[0.21966816]\n",
      " [0.32994054]\n",
      " [0.12127199]]\n",
      "Shape: (3, 1)\n",
      "-----\n",
      "\n",
      "\n",
      "==============================\n",
      "<Z<MatMul>#5>\n",
      "--------------------------------\n",
      "[[0.86660237 0.47934264]\n",
      " [0.54627695 0.29858696]\n",
      " [0.09474663 0.19855077]]\n",
      "\n",
      "Shape: (3, 2)\n",
      "Has 1 dependencies:\n",
      "Grad Dependecies: [(<Z<MatMul>#9 [5]>, <weight[Z<MatMul>#9]>)]\n",
      "\n",
      "~~~~~~~~~~\n",
      "Z Grad: <grad[Z<MatMul>#9]>\n",
      "--------------------------------\n",
      "[[0.21966816]\n",
      " [0.32994054]\n",
      " [0.12127199]]\n",
      "Shape: (3, 1)\n",
      "\n",
      "-----\n",
      "Z Weight: <weight[Z<MatMul>#9]>\n",
      "--------------------------------\n",
      "[[0.84192639]\n",
      " [0.39709376]]\n",
      "Shape: (2, 1)\n",
      "\n",
      "##########\n",
      "Current Grad: <grad[Z<MatMul>#5]>\n",
      "--------------------------------\n",
      "[[0.18494442 0.08722885]\n",
      " [0.27778565 0.13101733]\n",
      " [0.10210208 0.04815635]]\n",
      "Shape: (3, 2)\n",
      "-----\n",
      "\n",
      "\n",
      "==============================\n",
      "<W2>\n",
      "--------------------------------\n",
      "[[0.84192639]\n",
      " [0.39709376]]\n",
      "\n",
      "Shape: (2, 1)\n",
      "Has 1 dependencies:\n",
      "Grad Dependecies: [(<Z<MatMul>#9 [5]>, <weight[Z<MatMul>#9]>)]\n",
      "\n",
      "~~~~~~~~~~\n",
      "Z Grad: <grad[Z<MatMul>#9]>\n",
      "--------------------------------\n",
      "[[0.21966816]\n",
      " [0.32994054]\n",
      " [0.12127199]]\n",
      "Shape: (3, 1)\n",
      "\n",
      "-----\n",
      "Z Weight: <weight[Z<MatMul>#9]>\n",
      "--------------------------------\n",
      "[[0.86660237 0.47934264]\n",
      " [0.54627695 0.29858696]\n",
      " [0.09474663 0.19855077]]\n",
      "Shape: (3, 2)\n",
      "\n",
      "##########\n",
      "Current Grad: <grad[W2]>\n",
      "--------------------------------\n",
      "[[0.38209397]\n",
      " [0.22789091]]\n",
      "Shape: (2, 1)\n",
      "-----\n",
      "\n",
      "\n",
      "==============================\n",
      "<W1>\n",
      "--------------------------------\n",
      "[[0.93938741 0.18832881]\n",
      " [0.61150481 0.16523857]\n",
      " [0.07479209 0.71751488]]\n",
      "\n",
      "Shape: (3, 2)\n",
      "Has 1 dependencies:\n",
      "Grad Dependecies: [(<Z<MatMul>#5 [7]>, <weight[Z<MatMul>#5]>)]\n",
      "\n",
      "~~~~~~~~~~\n",
      "Z Grad: <grad[Z<MatMul>#5]>\n",
      "--------------------------------\n",
      "[[0.18494442 0.08722885]\n",
      " [0.27778565 0.13101733]\n",
      " [0.10210208 0.04815635]]\n",
      "Shape: (3, 2)\n",
      "\n",
      "-----\n",
      "Z Weight: <weight[Z<MatMul>#5]>\n",
      "--------------------------------\n",
      "[[0.59788175 0.44883032 0.40776883]\n",
      " [0.06919536 0.75975889 0.22301141]\n",
      " [0.01099519 0.10758765 0.24905745]]\n",
      "Shape: (3, 3)\n",
      "\n",
      "##########\n",
      "Current Grad: <grad[W1]>\n",
      "--------------------------------\n",
      "[[0.130919   0.06174782]\n",
      " [0.30504371 0.14387356]\n",
      " [0.16279322 0.07678126]]\n",
      "Shape: (3, 2)\n",
      "-----\n",
      "\n"
     ]
    }
   ],
   "source": [
    "loss_nj.backward(_debug=True)\n",
    "loss_th.backward(th.ones_like(loss_th))"
   ]
  },
  {
   "cell_type": "code",
   "execution_count": 6,
   "metadata": {},
   "outputs": [
    {
     "name": "stdout",
     "output_type": "stream",
     "text": [
      "[0.]\n"
     ]
    }
   ],
   "source": [
    "print(loss_nj.value - loss_th.detach().numpy())"
   ]
  },
  {
   "cell_type": "code",
   "execution_count": 7,
   "metadata": {},
   "outputs": [
    {
     "name": "stdout",
     "output_type": "stream",
     "text": [
      "[[0. 0.]\n",
      " [0. 0.]\n",
      " [0. 0.]]\n"
     ]
    }
   ],
   "source": [
    "print(np.abs(W1_nj.grad.value - W1_th.grad.detach().numpy()))"
   ]
  },
  {
   "cell_type": "code",
   "execution_count": 8,
   "metadata": {},
   "outputs": [
    {
     "name": "stdout",
     "output_type": "stream",
     "text": [
      "[[0.00000000e+00]\n",
      " [5.55111512e-17]]\n"
     ]
    }
   ],
   "source": [
    "print(np.abs(W2_nj.grad.value - W2_th.grad.detach().numpy()))"
   ]
  },
  {
   "cell_type": "code",
   "execution_count": null,
   "metadata": {},
   "outputs": [],
   "source": []
  },
  {
   "cell_type": "code",
   "execution_count": null,
   "metadata": {},
   "outputs": [],
   "source": []
  },
  {
   "cell_type": "code",
   "execution_count": null,
   "metadata": {},
   "outputs": [],
   "source": []
  },
  {
   "cell_type": "code",
   "execution_count": 9,
   "metadata": {},
   "outputs": [],
   "source": [
    "# from nujo.utils.viz import ComputationGraphPlotter"
   ]
  },
  {
   "cell_type": "code",
   "execution_count": 10,
   "metadata": {},
   "outputs": [],
   "source": [
    "# cg_plot = ComputationGraphPlotter(filename='graph').create(loss_nj)\n",
    "# cg_plot.view()"
   ]
  },
  {
   "cell_type": "code",
   "execution_count": null,
   "metadata": {},
   "outputs": [],
   "source": []
  }
 ],
 "metadata": {
  "kernelspec": {
   "display_name": "Python 3",
   "language": "python",
   "name": "python3"
  },
  "language_info": {
   "codemirror_mode": {
    "name": "ipython",
    "version": 3
   },
   "file_extension": ".py",
   "mimetype": "text/x-python",
   "name": "python",
   "nbconvert_exporter": "python",
   "pygments_lexer": "ipython3",
   "version": "3.7.7"
  }
 },
 "nbformat": 4,
 "nbformat_minor": 4
}
