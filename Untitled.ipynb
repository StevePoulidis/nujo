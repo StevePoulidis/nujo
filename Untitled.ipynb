{
 "cells": [
  {
   "cell_type": "code",
   "execution_count": 1,
   "metadata": {},
   "outputs": [],
   "source": [
    "import numpy as np\n",
    "\n",
    "import torch as th\n",
    "import nujo as nj"
   ]
  },
  {
   "cell_type": "code",
   "execution_count": 2,
   "metadata": {},
   "outputs": [],
   "source": [
    "X = np.random.rand(3, 3)\n",
    "y = np.random.rand(3, 1)\n",
    "\n",
    "W1 = np.random.rand(3, 2)\n",
    "W2 = np.random.rand(2, 1)\n",
    "\n",
    "X_nj = nj.Tensor(X)\n",
    "y_nj = nj.Tensor(y)\n",
    "W1_nj = nj.Tensor(W1, diff=True, name='W1')\n",
    "W2_nj = nj.Tensor(W2, diff=True, name='W2')\n",
    "\n",
    "X_th = th.tensor(X)\n",
    "y_th = th.tensor(y)\n",
    "W1_th = th.tensor(W1, requires_grad=True)\n",
    "W2_th = th.tensor(W2, requires_grad=True)"
   ]
  },
  {
   "cell_type": "code",
   "execution_count": 3,
   "metadata": {},
   "outputs": [],
   "source": [
    "loss_nj = nj.prod((X_nj @ W1_nj) ** 2)"
   ]
  },
  {
   "cell_type": "code",
   "execution_count": 4,
   "metadata": {},
   "outputs": [],
   "source": [
    "loss_th = th.prod((X_th @ W1_th) ** 2)"
   ]
  },
  {
   "cell_type": "code",
   "execution_count": 5,
   "metadata": {
    "scrolled": true
   },
   "outputs": [
    {
     "name": "stdout",
     "output_type": "stream",
     "text": [
      "\n",
      "==============================\n",
      "<Z<InnerProd>#14>\n",
      "--------------------------------\n",
      "0.0007859205290585085\n",
      "\n",
      "Shape: ()\n",
      "Has 0 dependencies:\n",
      "Grad Dependecies: []\n",
      "\n",
      "\n",
      "==============================\n",
      "<Z<Pow>#10>\n",
      "--------------------------------\n",
      "[[0.50407648 0.46928453]\n",
      " [0.39098627 0.46996755]\n",
      " [0.12513866 0.14448577]]\n",
      "\n",
      "Shape: (3, 2)\n",
      "Has 1 dependencies:\n",
      "Grad Dependecies: [(<Z<InnerProd>#14 [1]>, <weight[Z<InnerProd>#14]>)]\n",
      "\n",
      "~~~~~~~~~~\n",
      "Z Grad: <grad[Z<InnerProd>#14]>\n",
      "--------------------------------\n",
      "1.0\n",
      "Shape: ()\n",
      "\n",
      "-----\n",
      "Z Weight: <weight[Z<InnerProd>#14]>\n",
      "--------------------------------\n",
      "[[0.00155913 0.00167472]\n",
      " [0.0020101  0.00167229]\n",
      " [0.0062804  0.00543943]]\n",
      "Shape: (3, 2)\n",
      "\n",
      "##########\n",
      "Current Grad: <grad[Z<Pow>#10]>\n",
      "--------------------------------\n",
      "[[0.00155913 0.00167472]\n",
      " [0.0020101  0.00167229]\n",
      " [0.0062804  0.00543943]]\n",
      "Shape: (3, 2)\n",
      "-----\n",
      "\n",
      "\n",
      "==============================\n",
      "<Z<MatMul>#5>\n",
      "--------------------------------\n",
      "[[0.70998343 0.68504345]\n",
      " [0.62528895 0.68554179]\n",
      " [0.35374944 0.38011284]]\n",
      "\n",
      "Shape: (3, 2)\n",
      "Has 1 dependencies:\n",
      "Grad Dependecies: [(<Z<Pow>#10 [2]>, <weight[Z<Pow>#10]>)]\n",
      "\n",
      "~~~~~~~~~~\n",
      "Z Grad: <grad[Z<Pow>#10]>\n",
      "--------------------------------\n",
      "[[0.00155913 0.00167472]\n",
      " [0.0020101  0.00167229]\n",
      " [0.0062804  0.00543943]]\n",
      "Shape: (3, 2)\n",
      "\n",
      "-----\n",
      "Z Weight: <weight[Z<Pow>#10]>\n",
      "--------------------------------\n",
      "[[1.41996687 1.3700869 ]\n",
      " [1.2505779  1.37108358]\n",
      " [0.70749888 0.76022568]]\n",
      "Shape: (3, 2)\n",
      "\n",
      "##########\n",
      "Current Grad: <grad[Z<MatMul>#5]>\n",
      "--------------------------------\n",
      "[[0.00221391 0.00229451]\n",
      " [0.00251378 0.00229284]\n",
      " [0.00444337 0.0041352 ]]\n",
      "Shape: (3, 2)\n",
      "-----\n",
      "\n",
      "\n",
      "==============================\n",
      "<W1>\n",
      "--------------------------------\n",
      "[[0.3371378  0.74917596]\n",
      " [0.44698826 0.04979894]\n",
      " [0.27962939 0.23088998]]\n",
      "\n",
      "Shape: (3, 2)\n",
      "Has 1 dependencies:\n",
      "Grad Dependecies: [(<Z<MatMul>#5 [3]>, <weight[Z<MatMul>#5]>)]\n",
      "\n",
      "~~~~~~~~~~\n",
      "Z Grad: <grad[Z<MatMul>#5]>\n",
      "--------------------------------\n",
      "[[0.00221391 0.00229451]\n",
      " [0.00251378 0.00229284]\n",
      " [0.00444337 0.0041352 ]]\n",
      "Shape: (3, 2)\n",
      "\n",
      "-----\n",
      "Z Weight: <weight[Z<MatMul>#5]>\n",
      "--------------------------------\n",
      "[[0.72257635 0.75601445 0.45934387]\n",
      " [0.66885411 0.45620457 0.70048022]\n",
      " [0.30706998 0.1771083  0.61173543]]\n",
      "Shape: (3, 3)\n",
      "\n",
      "##########\n",
      "Current Grad: <grad[W1]>\n",
      "--------------------------------\n",
      "[[0.0046455  0.00446133]\n",
      " [0.00360751 0.00351307]\n",
      " [0.00549597 0.00518971]]\n",
      "Shape: (3, 2)\n",
      "-----\n",
      "\n"
     ]
    }
   ],
   "source": [
    "loss_nj.backward(_debug=True)\n",
    "loss_th.backward(th.ones_like(loss_th))"
   ]
  },
  {
   "cell_type": "code",
   "execution_count": 6,
   "metadata": {},
   "outputs": [
    {
     "name": "stdout",
     "output_type": "stream",
     "text": [
      "0.0\n"
     ]
    }
   ],
   "source": [
    "print(loss_nj.value - loss_th.detach().numpy())"
   ]
  },
  {
   "cell_type": "code",
   "execution_count": 7,
   "metadata": {},
   "outputs": [
    {
     "name": "stdout",
     "output_type": "stream",
     "text": [
      "[[0.00000000e+00 0.00000000e+00]\n",
      " [4.33680869e-19 0.00000000e+00]\n",
      " [0.00000000e+00 0.00000000e+00]]\n"
     ]
    }
   ],
   "source": [
    "print(np.abs(W1_nj.grad.value - W1_th.grad.detach().numpy()))"
   ]
  },
  {
   "cell_type": "code",
   "execution_count": 8,
   "metadata": {},
   "outputs": [
    {
     "ename": "AttributeError",
     "evalue": "'NoneType' object has no attribute 'detach'",
     "output_type": "error",
     "traceback": [
      "\u001b[0;31m---------------------------------------------------------------------------\u001b[0m",
      "\u001b[0;31mAttributeError\u001b[0m                            Traceback (most recent call last)",
      "\u001b[0;32m<ipython-input-8-ba1e54fa31b0>\u001b[0m in \u001b[0;36m<module>\u001b[0;34m\u001b[0m\n\u001b[0;32m----> 1\u001b[0;31m \u001b[0mprint\u001b[0m\u001b[0;34m(\u001b[0m\u001b[0mnp\u001b[0m\u001b[0;34m.\u001b[0m\u001b[0mabs\u001b[0m\u001b[0;34m(\u001b[0m\u001b[0mW2_nj\u001b[0m\u001b[0;34m.\u001b[0m\u001b[0mgrad\u001b[0m\u001b[0;34m.\u001b[0m\u001b[0mvalue\u001b[0m \u001b[0;34m-\u001b[0m \u001b[0mW2_th\u001b[0m\u001b[0;34m.\u001b[0m\u001b[0mgrad\u001b[0m\u001b[0;34m.\u001b[0m\u001b[0mdetach\u001b[0m\u001b[0;34m(\u001b[0m\u001b[0;34m)\u001b[0m\u001b[0;34m.\u001b[0m\u001b[0mnumpy\u001b[0m\u001b[0;34m(\u001b[0m\u001b[0;34m)\u001b[0m\u001b[0;34m)\u001b[0m\u001b[0;34m)\u001b[0m\u001b[0;34m\u001b[0m\u001b[0;34m\u001b[0m\u001b[0m\n\u001b[0m",
      "\u001b[0;31mAttributeError\u001b[0m: 'NoneType' object has no attribute 'detach'"
     ]
    }
   ],
   "source": [
    "print(np.abs(W2_nj.grad.value - W2_th.grad.detach().numpy()))"
   ]
  },
  {
   "cell_type": "code",
   "execution_count": null,
   "metadata": {},
   "outputs": [],
   "source": []
  },
  {
   "cell_type": "code",
   "execution_count": null,
   "metadata": {},
   "outputs": [],
   "source": []
  },
  {
   "cell_type": "code",
   "execution_count": null,
   "metadata": {},
   "outputs": [],
   "source": []
  },
  {
   "cell_type": "code",
   "execution_count": null,
   "metadata": {},
   "outputs": [],
   "source": []
  },
  {
   "cell_type": "code",
   "execution_count": null,
   "metadata": {},
   "outputs": [],
   "source": []
  }
 ],
 "metadata": {
  "kernelspec": {
   "display_name": "Python 3",
   "language": "python",
   "name": "python3"
  },
  "language_info": {
   "codemirror_mode": {
    "name": "ipython",
    "version": 3
   },
   "file_extension": ".py",
   "mimetype": "text/x-python",
   "name": "python",
   "nbconvert_exporter": "python",
   "pygments_lexer": "ipython3",
   "version": "3.7.7"
  }
 },
 "nbformat": 4,
 "nbformat_minor": 4
}
